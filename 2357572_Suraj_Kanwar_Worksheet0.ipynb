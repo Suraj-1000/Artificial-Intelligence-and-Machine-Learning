{
  "nbformat": 4,
  "nbformat_minor": 0,
  "metadata": {
    "colab": {
      "provenance": []
    },
    "kernelspec": {
      "name": "python3",
      "display_name": "Python 3"
    },
    "language_info": {
      "name": "python"
    }
  },
  "cells": [
    {
      "cell_type": "markdown",
      "source": [
        "\n",
        "```\n",
        "Student ID: 2357572\n",
        "Student Name: Suraj Kanwar\n",
        "```\n",
        "\n"
      ],
      "metadata": {
        "id": "48x6Xy8jgqES"
      }
    },
    {
      "cell_type": "markdown",
      "source": [
        "# 4 TO-DO-Task\n",
        "**4.1 Exercise on Functions:**\n",
        "### Task 1: Unit Conversion Program\n",
        "\n",
        "**Create a Python program that:**\n",
        "\n",
        "1. Prompts the user to choose a conversion type (length, weight, or volume).\n",
        "2. Asks for the value to convert.\n",
        "3. Performs the conversion and displays the result.\n",
        "4. Handles errors for invalid input or unsupported conversions.\n",
        "\n",
        "**Requirements:**\n",
        "- Define a function to perform the conversion.\n",
        "- Use try-except blocks for error handling.\n",
        "- Include docstrings for your function.\n",
        "\n",
        "**Conversions:**\n",
        "1. **Length:** meters (m) to feet (ft), feet (ft) to meters (m)\n",
        "2. **Weight:** kilograms (kg) to pounds (lbs), pounds (lbs) to kilograms (kg)\n",
        "3. **Volume:** liters (L) to gallons (gal), gallons (gal) to liters (L)"
      ],
      "metadata": {
        "id": "UGtFoVufEPm0"
      }
    },
    {
      "cell_type": "code",
      "source": [
        "def unit_conversion():\n",
        "    try:\n",
        "        print(\"Choose conversion:\")\n",
        "        print(\"1. Length (m-ft / ft-m)\")\n",
        "        print(\"2. Weight (kg-lbs / lbs-kg)\")\n",
        "        print(\"3. Volume (l-gal / gal-l)\")\n",
        "\n",
        "        choice = input(\"Choice (1-3): \")\n",
        "\n",
        "        if choice == \"1\":\n",
        "            direction = input(\"Convert (1) m to ft or (2) ft to m: \")\n",
        "            if direction not in [\"1\", \"2\"]:\n",
        "                print(\"Invalid direction choice!\")\n",
        "                return\n",
        "\n",
        "            value = float(input(\"Enter value to convert: \"))\n",
        "            if direction == \"1\":\n",
        "                result = value * 3.28084\n",
        "                print(f\"{value} meters = {result:.2f} feet\")\n",
        "            else:\n",
        "                result = value / 3.28084\n",
        "                print(f\"{value} feet = {result:.2f} meters\")\n",
        "\n",
        "        elif choice == \"2\":\n",
        "            direction = input(\"Convert (1) kg to lbs or (2) lbs to kg: \")\n",
        "            if direction not in [\"1\", \"2\"]:\n",
        "                print(\"Invalid direction choice!\")\n",
        "                return\n",
        "\n",
        "            value = float(input(\"Enter value to convert: \"))\n",
        "            if direction == \"1\":\n",
        "                result = value * 2.20462\n",
        "                print(f\"{value} kilograms = {result:.2f} pounds\")\n",
        "            else:\n",
        "                result = value / 2.20462\n",
        "                print(f\"{value} pounds = {result:.2f} kilograms\")\n",
        "\n",
        "        elif choice == \"3\":\n",
        "            direction = input(\"Convert (1) l to gal or (2) gal to l: \")\n",
        "            if direction not in [\"1\", \"2\"]:\n",
        "                print(\"Invalid direction choice!\")\n",
        "                return\n",
        "\n",
        "            value = float(input(\"Enter value to convert: \"))\n",
        "            if direction == \"1\":\n",
        "                result = value * 0.264172\n",
        "                print(f\"{value} liters = {result:.2f} gallons\")\n",
        "            else:\n",
        "                result = value / 0.264172\n",
        "                print(f\"{value} gallons = {result:.2f} liters\")\n",
        "\n",
        "        else:\n",
        "            print(\"Invalid choice!\")\n",
        "\n",
        "    except ValueError:\n",
        "        print(\"Invalid input. Please enter a numeric value.\")\n",
        "\n",
        "unit_conversion()\n"
      ],
      "metadata": {
        "id": "nco4vWSy9YwI",
        "colab": {
          "base_uri": "https://localhost:8080/"
        },
        "outputId": "e962968a-e93b-45dc-aa09-e4543c0824dc"
      },
      "execution_count": null,
      "outputs": [
        {
          "output_type": "stream",
          "name": "stdout",
          "text": [
            "Choose conversion:\n",
            "1. Length (m-ft / ft-m)\n",
            "2. Weight (kg-lbs / lbs-kg)\n",
            "3. Volume (l-gal / gal-l)\n",
            "Choice (1-3): 2\n",
            "Convert (1) kg to lbs or (2) lbs to kg: 2\n",
            "Enter value to convert: 44\n",
            "44.0 pounds = 19.96 kilograms\n"
          ]
        }
      ]
    },
    {
      "cell_type": "markdown",
      "source": [
        "### Task 2: Mathematical Operations on a List\n",
        "\n",
        "Create a Python program that:\n",
        "\n",
        "1. Prompts the user to choose an operation (sum, average, maximum, or minimum).\n",
        "2. Asks for a list of numbers (separated by spaces).\n",
        "3. Performs the selected operation and displays the result.\n",
        "4. Handles errors, such as non-numeric input or empty lists.\n",
        "\n",
        "**Requirements:**\n",
        "- Define a function for each operation (sum, average, maximum, minimum).\n",
        "- Use try-except blocks for error handling.\n",
        "- Include docstrings in each function."
      ],
      "metadata": {
        "id": "HyBsiyahGtNU"
      }
    },
    {
      "cell_type": "code",
      "source": [
        "def list_operations():\n",
        "    try:\n",
        "        print(\"Choose operation:\")\n",
        "        print(\"1. Sum\")\n",
        "        print(\"2. Average\")\n",
        "        print(\"3. Maximum\")\n",
        "        print(\"4. Minimum\")\n",
        "\n",
        "        choice = input(\"Choice (1-4): \")\n",
        "\n",
        "        if choice not in [\"1\", \"2\", \"3\", \"4\"]:\n",
        "            print(\"Invalid choice!\")\n",
        "            return\n",
        "\n",
        "        n = list(map(float, input(\"Enter a list of numbers separated by spaces: \").split()))\n",
        "\n",
        "        if not n:\n",
        "            print(\"The list cannot be empty.\")\n",
        "            return\n",
        "\n",
        "        if choice == \"1\":\n",
        "            result = sum(n)\n",
        "            print(f\"The sum is: {result}\")\n",
        "        elif choice == \"2\":\n",
        "            result = sum(n) / len(n)\n",
        "            print(f\"The average is: {result:.2f}\")\n",
        "        elif choice == \"3\":\n",
        "            result = max(n)\n",
        "            print(f\"The maximum is: {result}\")\n",
        "        elif choice == \"4\":\n",
        "            result = min(n)\n",
        "            print(f\"The minimum is: {result}\")\n",
        "\n",
        "    except ValueError:\n",
        "        print(\"Invalid input. Please enter numbers separated by spaces.\")\n",
        "\n",
        "list_operations()\n"
      ],
      "metadata": {
        "id": "MQ9UiGWPEPWF",
        "colab": {
          "base_uri": "https://localhost:8080/"
        },
        "outputId": "77a55ccf-f723-4a4a-bd1a-de40f105fe16"
      },
      "execution_count": null,
      "outputs": [
        {
          "output_type": "stream",
          "name": "stdout",
          "text": [
            "Choose operation:\n",
            "1. Sum\n",
            "2. Average\n",
            "3. Maximum\n",
            "4. Minimum\n",
            "Choice (1-4): 2\n",
            "Enter a list of numbers separated by spaces: 2 5 7 9 3\n",
            "The average is: 5.20\n"
          ]
        }
      ]
    },
    {
      "cell_type": "markdown",
      "source": [
        "# 4.2 List Manipulation Exercises"
      ],
      "metadata": {
        "id": "L3QgPOoDIlvY"
      }
    },
    {
      "cell_type": "markdown",
      "source": [
        "**1. Extract Every Other Element:**\n",
        "\n",
        "Write a function extract_every_other(lst) that extracts every other element from a list, starting from the first element.\n",
        "\n",
        "Example: Input: [1, 2, 3, 4, 5, 6], Output: [1, 3, 5]"
      ],
      "metadata": {
        "id": "OIw0Jdo2JI9e"
      }
    },
    {
      "cell_type": "code",
      "source": [
        "def extract_every_other(lst):\n",
        "    \"\"\"Returns every other element from the list.\"\"\"\n",
        "    return lst[::2]\n",
        "\n",
        "lst = [1, 2, 3, 4, 5, 6]\n",
        "print(\"Every other element:\", extract_every_other(lst))\n"
      ],
      "metadata": {
        "id": "AF1bV61CJxxC",
        "colab": {
          "base_uri": "https://localhost:8080/"
        },
        "outputId": "4c02fdae-5f38-42f0-81d7-5be8549eb7b8"
      },
      "execution_count": null,
      "outputs": [
        {
          "output_type": "stream",
          "name": "stdout",
          "text": [
            "Every other element: [1, 3, 5]\n"
          ]
        }
      ]
    },
    {
      "cell_type": "markdown",
      "source": [
        "**2. Slice a Sublist**\n",
        "\n",
        "Write a function get_sublist(lst, start, end) that returns a sublist from index start to end (inclusive).\n",
        "\n",
        "Example: Input: [1, 2, 3, 4, 5, 6], start=2, end=4, Output: [3, 4, 5]"
      ],
      "metadata": {
        "id": "Vzu9FYVzKLXe"
      }
    },
    {
      "cell_type": "code",
      "source": [
        "def get_sublist(lst, start, end):\n",
        "    \"\"\"Returns a sublist from start to end index.\"\"\"\n",
        "    return lst[start:end+1]\n",
        "\n",
        "lst = [1, 2, 3, 4, 5, 6]\n",
        "print(\"Sublist from index 2 to 4:\", get_sublist(lst, 2, 4))\n"
      ],
      "metadata": {
        "id": "Gpqn6UVuKPVP",
        "colab": {
          "base_uri": "https://localhost:8080/"
        },
        "outputId": "0f84e9e4-4916-41bf-8192-b08787222841"
      },
      "execution_count": null,
      "outputs": [
        {
          "output_type": "stream",
          "name": "stdout",
          "text": [
            "Sublist from index 2 to 4: [3, 4, 5]\n"
          ]
        }
      ]
    },
    {
      "cell_type": "markdown",
      "source": [
        "**3. Reverse a List Using Slicing**\n",
        "\n",
        "Write a function reverse_slicing_list(lst) that reverses a list using slicing.\n",
        "\n",
        "Example: Input: [1, 2, 3, 4, 5], Output: [5, 4, 3, 2, 1]"
      ],
      "metadata": {
        "id": "Jx50qu7VKP_w"
      }
    },
    {
      "cell_type": "code",
      "source": [
        "def reverse_list(lst):\n",
        "    \"\"\"Reverses the list.\"\"\"\n",
        "    return lst[::-1]\n",
        "\n",
        "lst = [1, 2, 3, 4, 5]\n",
        "print(\"Reversed List:\", reverse_list(lst))\n"
      ],
      "metadata": {
        "id": "jJgqwkBsKrmC",
        "colab": {
          "base_uri": "https://localhost:8080/"
        },
        "outputId": "df149da2-b45e-4dce-c2da-a7c7c4697cb7"
      },
      "execution_count": null,
      "outputs": [
        {
          "output_type": "stream",
          "name": "stdout",
          "text": [
            "Reversed List: [5, 4, 3, 2, 1]\n"
          ]
        }
      ]
    },
    {
      "cell_type": "markdown",
      "source": [
        "**4. Remove the First and Last Elements**\n",
        "\n",
        "Write a function remove_first_last(lst) that removes the first and last elements of a list and returns the resulting sublist.\n",
        "\n",
        "Example: Input: [1, 2, 3, 4, 5], Output: [2, 3, 4]"
      ],
      "metadata": {
        "id": "B6rAQZt_KYsK"
      }
    },
    {
      "cell_type": "code",
      "source": [
        "def remove_first_last(lst):\n",
        "    \"\"\"Removes the first and last element from the list.\"\"\"\n",
        "    return lst[1:-1]\n",
        "\n",
        "lst = [1, 2, 3, 4, 5]\n",
        "print(\"List without first and last elements:\", remove_first_last(lst))\n"
      ],
      "metadata": {
        "id": "0kSvZujAKsMT",
        "colab": {
          "base_uri": "https://localhost:8080/"
        },
        "outputId": "ee6cd7b7-edd9-4022-bb4f-45153290c6b7"
      },
      "execution_count": null,
      "outputs": [
        {
          "output_type": "stream",
          "name": "stdout",
          "text": [
            "List without first and last elements: [2, 3, 4]\n"
          ]
        }
      ]
    },
    {
      "cell_type": "markdown",
      "source": [
        "**5. Get the First n Elements**\n",
        "\n",
        "Write a function get_first_n(lst, n) that returns the first n elements of a list.\n",
        "\n",
        "Example: Input: [1, 2, 3, 4, 5], n=3, Output: [1, 2, 3]"
      ],
      "metadata": {
        "id": "Pq51uCeNKc8o"
      }
    },
    {
      "cell_type": "code",
      "source": [
        "def get_first_n(lst, n):\n",
        "    \"\"\"Returns the first n elements of the list.\"\"\"\n",
        "    return lst[:n]\n",
        "\n",
        "lst = [1, 2, 3, 4, 5]\n",
        "print(\"First 3 elements:\", get_first_n(lst, 3))\n"
      ],
      "metadata": {
        "id": "gvthTSsBKs_B",
        "colab": {
          "base_uri": "https://localhost:8080/"
        },
        "outputId": "91e58a6b-bd69-4c07-fda2-b61b763a7a4d"
      },
      "execution_count": null,
      "outputs": [
        {
          "output_type": "stream",
          "name": "stdout",
          "text": [
            "First 3 elements: [1, 2, 3]\n"
          ]
        }
      ]
    },
    {
      "cell_type": "markdown",
      "source": [
        "**6. Extract Elements from the End**\n",
        "\n",
        "Write a function get_last_n(lst, n) that returns the last n elements of a list.\n",
        "\n",
        "Example: Input: [1, 2, 3, 4, 5], n=2, Output: [4, 5]\n"
      ],
      "metadata": {
        "id": "p1-SoPlXKg0E"
      }
    },
    {
      "cell_type": "code",
      "source": [
        "def get_last_n(lst, n):\n",
        "    \"\"\"Returns the last n elements of the list.\"\"\"\n",
        "    return lst[-n:]\n",
        "\n",
        "lst = [1, 2, 3, 4, 5]\n",
        "print(\"Last 2 elements:\", get_last_n(lst, 2))\n"
      ],
      "metadata": {
        "id": "lZsJrEv9KthN",
        "colab": {
          "base_uri": "https://localhost:8080/"
        },
        "outputId": "112ebfcc-94c3-4ae7-9615-4d656d3ece5d"
      },
      "execution_count": null,
      "outputs": [
        {
          "output_type": "stream",
          "name": "stdout",
          "text": [
            "Last 2 elements: [4, 5]\n"
          ]
        }
      ]
    },
    {
      "cell_type": "markdown",
      "source": [
        "**7. Extract Elements in Reverse Order**\n",
        "\n",
        "Write a function reverse_skip(lst) that returns every second element starting from the second-to-last, moving backward.\n",
        "\n",
        "Example: Input: [1, 2, 3, 4, 5, 6], Output: [5, 3, 1]"
      ],
      "metadata": {
        "id": "NQTh6ISzKl7x"
      }
    },
    {
      "cell_type": "code",
      "source": [
        "def reverse_skip(lst):\n",
        "    \"\"\"Returns elements in reverse order, skipping one in between.\"\"\"\n",
        "    return lst[-2::-2]\n",
        "\n",
        "lst = [1, 2, 3, 4, 5, 6]\n",
        "print(\"Elements in reverse order, skipping one:\", reverse_skip(lst))\n"
      ],
      "metadata": {
        "id": "7AfEG43iKt6e",
        "colab": {
          "base_uri": "https://localhost:8080/"
        },
        "outputId": "773c5275-71af-4464-8a27-3af91b06f739"
      },
      "execution_count": null,
      "outputs": [
        {
          "output_type": "stream",
          "name": "stdout",
          "text": [
            "Elements in reverse order, skipping one: [5, 3, 1]\n"
          ]
        }
      ]
    },
    {
      "cell_type": "markdown",
      "source": [
        "# 4.3 Exercise on Nested List\n",
        "**1.Flatten a Nested List:**\n",
        "\n",
        "Requirement: Define a function flatten(lst) that takes a nested list lst and returns a flattened version of the list.\n",
        "\n",
        "Example: For the input [[1, 2], [3, 4], [5]], the output should be [1, 2, 3, 4, 5]."
      ],
      "metadata": {
        "id": "3TOhK5csLkcU"
      }
    },
    {
      "cell_type": "code",
      "source": [
        "def flatten(nested_list):\n",
        "    \"\"\"Flattens a nested list.\"\"\"\n",
        "    flattened_list = []\n",
        "    for sublist in nested_list:\n",
        "        if isinstance(sublist, list):\n",
        "            flattened_list.extend(sublist)\n",
        "        else:\n",
        "            flattened_list.append(sublist)\n",
        "    return flattened_list\n",
        "\n",
        "nested_list = [[1, 2], [3, 4], [5]]\n",
        "print(\"Flattened List:\", flatten(nested_list))\n"
      ],
      "metadata": {
        "id": "hCW_dGeFM4ES",
        "colab": {
          "base_uri": "https://localhost:8080/"
        },
        "outputId": "976b7f71-7980-4155-f979-47391e3e47d2"
      },
      "execution_count": null,
      "outputs": [
        {
          "output_type": "stream",
          "name": "stdout",
          "text": [
            "Flattened List: [1, 2, 3, 4, 5]\n"
          ]
        }
      ]
    },
    {
      "cell_type": "markdown",
      "source": [
        "**2. Accessing Nested List Elements:**\n",
        "\n",
        "Requirement: Define a function access_nested_element(lst, indices) that takes a nested list lst and a list of indices indices, and returns the element at that position.\n",
        "\n",
        "Example: For the input lst = [[1, 2, 3], [4, 5, 6], [7, 8, 9]] with indices = [1, 2], the output should be 6."
      ],
      "metadata": {
        "id": "_Fc3Jr6pL9Kf"
      }
    },
    {
      "cell_type": "code",
      "source": [
        "def access_nested_element(lst, indices):\n",
        "    \"\"\"Accesses an element in a nested list by a list of indices.\"\"\"\n",
        "    for index in indices:\n",
        "        lst = lst[index]\n",
        "    return lst\n",
        "\n",
        "lst = [[1, 2, 3], [4, 5, 6], [7, 8, 9]]\n",
        "indices = [1, 2]\n",
        "print(\"Accessed Element:\", access_nested_element(lst, indices))\n"
      ],
      "metadata": {
        "id": "G1NYZUuYOKkM",
        "colab": {
          "base_uri": "https://localhost:8080/"
        },
        "outputId": "631cac9c-8e81-40b6-8ff2-3f36157882e9"
      },
      "execution_count": null,
      "outputs": [
        {
          "output_type": "stream",
          "name": "stdout",
          "text": [
            "Accessed Element: 6\n"
          ]
        }
      ]
    },
    {
      "cell_type": "markdown",
      "source": [
        "**3. Sum of All Elements in a Nested List:**\n",
        "\n",
        "Requirement: Define a function sum_nested(lst) that takes a nested list lst and returns the sum of all the elements.\n",
        "\n",
        "Example: For the input [[1, 2], [3, [4, 5]], 6], the output should be 21."
      ],
      "metadata": {
        "id": "bIBtSS1qME_I"
      }
    },
    {
      "cell_type": "code",
      "source": [
        "def sum_nested(nested_list):\n",
        "    \"\"\"Sums all elements in a nested list.\"\"\"\n",
        "    total = 0\n",
        "    for item in nested_list:\n",
        "        if isinstance(item, list):\n",
        "            total += sum_nested(item)\n",
        "        else:\n",
        "            total += item\n",
        "    return total\n",
        "\n",
        "nested_list = [[1, 2], [3, [4, 5]], 6]\n",
        "print(\"Sum of All Elements:\", sum_nested(nested_list))\n"
      ],
      "metadata": {
        "id": "4uKITNcVOYyi",
        "colab": {
          "base_uri": "https://localhost:8080/"
        },
        "outputId": "f3e5e99d-f9ac-46a6-93ec-1d689c0bc5e0"
      },
      "execution_count": null,
      "outputs": [
        {
          "output_type": "stream",
          "name": "stdout",
          "text": [
            "Sum of All Elements: 21\n"
          ]
        }
      ]
    },
    {
      "cell_type": "markdown",
      "source": [
        "**4. Remove Specific Element from a Nested List:**\n",
        "\n",
        "Requirement: Define a function remove_element(lst, elem) that removes elem from lst and returns the modified list.\n",
        "\n",
        "Example: For the input lst = [[1, 2], [3, 2], [4, 5]] and elem = 2, the output should be [[1], [3], [4, 5]]."
      ],
      "metadata": {
        "id": "sP3mXBpwMN9N"
      }
    },
    {
      "cell_type": "code",
      "source": [
        "def remove_element(lst, elem):\n",
        "    \"\"\"Removes a specific element from a nested list.\"\"\"\n",
        "    result = []\n",
        "    for item in lst:\n",
        "        if isinstance(item, list):\n",
        "            result.append(remove_element(item, elem))\n",
        "        elif item != elem:\n",
        "            result.append(item)\n",
        "    return result\n",
        "\n",
        "lst = [[1, 2], [3, 2], [4, 5]]\n",
        "elem = 2\n",
        "print(\"List after removing element:\", remove_element(lst, elem))\n"
      ],
      "metadata": {
        "id": "itEPCVXdOauJ",
        "colab": {
          "base_uri": "https://localhost:8080/"
        },
        "outputId": "6cdbfffb-8906-4edc-85b0-ae9538790110"
      },
      "execution_count": null,
      "outputs": [
        {
          "output_type": "stream",
          "name": "stdout",
          "text": [
            "List after removing element: [[1], [3], [4, 5]]\n"
          ]
        }
      ]
    },
    {
      "cell_type": "markdown",
      "source": [
        "**5. Find the Maximum Element in a Nested List:**\n",
        "\n",
        "Requirement: Define a function find_max(lst) that takes a nested list lst and returns the maximum element.\n",
        "\n",
        "Example: For the input [[1, 2], [3, [4, 5]], 6], the output should be 6."
      ],
      "metadata": {
        "id": "H5Qtq0AzMTBd"
      }
    },
    {
      "cell_type": "code",
      "source": [
        "def find_max(lst):\n",
        "    \"\"\"Finds the maximum element in a nested list.\"\"\"\n",
        "    max_element = float('-inf')\n",
        "\n",
        "    for sub in lst:\n",
        "        if isinstance(sub, list):\n",
        "            max_element = max(max_element, find_max(sub))\n",
        "        else:\n",
        "            max_element = max(max_element, sub)\n",
        "\n",
        "    return max_element\n",
        "\n",
        "lst = [[1, 2], [3, [4, 5]], 6]\n",
        "print(\"Maximum Element:\", find_max(lst))\n"
      ],
      "metadata": {
        "id": "5doKJkZWOcV5",
        "colab": {
          "base_uri": "https://localhost:8080/"
        },
        "outputId": "e0aa1224-3d3e-4424-f69a-6945eb8d352b"
      },
      "execution_count": null,
      "outputs": [
        {
          "output_type": "stream",
          "name": "stdout",
          "text": [
            "Maximum Element: 6\n"
          ]
        }
      ]
    },
    {
      "cell_type": "markdown",
      "source": [
        "**6. Count Occurrences of an Element in a Nested List:**\n",
        "\n",
        "Requirement: Define a function count_occurrences(lst, elem) that counts the occurrences of elem in the nested list lst.\n",
        "\n",
        "Example: For the input lst = [[1, 2], [2, 3], [2, 4]] and elem = 2, the output should be 3."
      ],
      "metadata": {
        "id": "poGdpAyxMXNO"
      }
    },
    {
      "cell_type": "code",
      "source": [
        "def count_occurrences(lst, elem):\n",
        "    \"\"\"Counts occurrences of an element in a nested list.\"\"\"\n",
        "    count = 0\n",
        "\n",
        "    for item in lst:\n",
        "        if isinstance(item, list):\n",
        "            count += count_occurrences(item, elem)\n",
        "        else:\n",
        "            if item == elem:\n",
        "                count += 1\n",
        "\n",
        "    return count\n",
        "\n",
        "lst = [[1, 2], [2, 3], [2, 4]]\n",
        "elem = 2\n",
        "print(\"Occurrences of element:\", count_occurrences(lst, elem))\n"
      ],
      "metadata": {
        "id": "O3gmDwe8Od_l",
        "colab": {
          "base_uri": "https://localhost:8080/"
        },
        "outputId": "e7e15321-fde9-4b86-d3b9-3aa95e7aa54d"
      },
      "execution_count": null,
      "outputs": [
        {
          "output_type": "stream",
          "name": "stdout",
          "text": [
            "Occurrences of element: 3\n"
          ]
        }
      ]
    },
    {
      "cell_type": "markdown",
      "source": [
        "**7. Flatten a List of Lists of Lists:**\n",
        "\n",
        "Requirement: Define a function deep_flatten(lst) that takes a deeply nested list lst and returns a single flattened list.\n",
        "\n",
        "Example: For the input [[[1, 2], [3, 4]], [[5, 6], [7, 8]]], the output should be [1, 2, 3, 4, 5, 6, 7, 8]."
      ],
      "metadata": {
        "id": "E3YrjrrXMlQZ"
      }
    },
    {
      "cell_type": "code",
      "source": [
        "def deep_flatten(lst):\n",
        "    \"\"\"Flattens a deeply nested list.\"\"\"\n",
        "    result = []\n",
        "    for sublist in lst:\n",
        "        if isinstance(sublist, list):\n",
        "            result.extend(deep_flatten(sublist))\n",
        "        else:\n",
        "            result.append(sublist)\n",
        "    return result\n",
        "\n",
        "lst = [[[1, 2], [3, 4]], [[5, 6], [7, 8]]]\n",
        "print(\"Deeply Flattened List:\", deep_flatten(lst))\n"
      ],
      "metadata": {
        "id": "L3zyyqCHOg0O",
        "colab": {
          "base_uri": "https://localhost:8080/"
        },
        "outputId": "021708dc-6b3f-47eb-825e-dd54c8ce027a"
      },
      "execution_count": null,
      "outputs": [
        {
          "output_type": "stream",
          "name": "stdout",
          "text": [
            "Deeply Flattened List: [1, 2, 3, 4, 5, 6, 7, 8]\n"
          ]
        }
      ]
    },
    {
      "cell_type": "markdown",
      "source": [
        "**8. Nested List Average:**\n",
        "\n",
        "Requirement: Define a function average_nested(lst) that calculates the average of all elements in a nested list.\n",
        "\n",
        "Example: For the input [[1, 2], [3, 4], [5, 6]], the output should be 3.5."
      ],
      "metadata": {
        "id": "M0uPZN0bMoU5"
      }
    },
    {
      "cell_type": "code",
      "source": [
        "def average_nested(lst):\n",
        "    \"\"\"Calculates the average of all elements in a nested list.\"\"\"\n",
        "    f_t = deep_flatten(lst)\n",
        "    return sum(f_t) / len(f_t) if f_t else 0\n",
        "\n",
        "lst = [[1, 2], [3, 4], [5, 6]]\n",
        "print(\"Average of elements:\", average_nested(lst))\n"
      ],
      "metadata": {
        "id": "hljxBTG2Oiy9",
        "colab": {
          "base_uri": "https://localhost:8080/"
        },
        "outputId": "4c79b742-686c-48fd-af29-177d7fbfaec1"
      },
      "execution_count": null,
      "outputs": [
        {
          "output_type": "stream",
          "name": "stdout",
          "text": [
            "Average of elements: 3.5\n"
          ]
        }
      ]
    },
    {
      "cell_type": "markdown",
      "source": [
        "# **10: To-Do: NumPy Tasks**\n",
        "Problem 1: Array Creation"
      ],
      "metadata": {
        "id": "mpOpVWAM9PxD"
      }
    },
    {
      "cell_type": "markdown",
      "source": [
        "10.1 Basic Vector and Matrix Operation with Numpy.\n",
        "\n",
        "**Problem 1: Array Creation**\n",
        "\n",
        "1. Create a 2x2 empty array."
      ],
      "metadata": {
        "id": "MGyuLyDD9ZEs"
      }
    },
    {
      "cell_type": "code",
      "source": [
        "import numpy as np\n",
        "\n",
        "arr = np.empty((2, 2))\n",
        "print(\"Empty array (2x2):\\n\", arr)"
      ],
      "metadata": {
        "id": "fJtvkIafRygO",
        "colab": {
          "base_uri": "https://localhost:8080/"
        },
        "outputId": "072ae415-9c10-4abe-f812-3a9de4124488"
      },
      "execution_count": null,
      "outputs": [
        {
          "output_type": "stream",
          "name": "stdout",
          "text": [
            "Empty array (2x2):\n",
            " [[2.29195541e-316 0.00000000e+000]\n",
            " [3.66243071e-244 3.05826635e-321]]\n"
          ]
        }
      ]
    },
    {
      "cell_type": "markdown",
      "source": [
        "2. Create a 4x2 array filled with ones."
      ],
      "metadata": {
        "id": "ZsfnOqeT9jlu"
      }
    },
    {
      "cell_type": "code",
      "source": [
        "arr = np.ones((4, 2))\n",
        "print(\"All ones array (4x2):\\n\", arr)\n"
      ],
      "metadata": {
        "id": "ofXkE9-8UDKg",
        "colab": {
          "base_uri": "https://localhost:8080/"
        },
        "outputId": "f8bf8eae-f969-4bbe-a2c6-a4ff0a901304"
      },
      "execution_count": null,
      "outputs": [
        {
          "output_type": "stream",
          "name": "stdout",
          "text": [
            "All ones array (4x2):\n",
            " [[1. 1.]\n",
            " [1. 1.]\n",
            " [1. 1.]\n",
            " [1. 1.]]\n"
          ]
        }
      ]
    },
    {
      "cell_type": "markdown",
      "source": [
        "3. Create an array of a given shape, filled with a specific value using np.full()."
      ],
      "metadata": {
        "id": "WJuCsStzR3nr"
      }
    },
    {
      "cell_type": "code",
      "source": [
        "arr = np.full((3, 3), 3)\n",
        "print(\"Array filled with 3 (3x3):\\n\", arr)\n"
      ],
      "metadata": {
        "id": "ZjQTAgqdURif",
        "colab": {
          "base_uri": "https://localhost:8080/"
        },
        "outputId": "7ee9a584-ad6c-4435-b858-17c5c7c39f23"
      },
      "execution_count": null,
      "outputs": [
        {
          "output_type": "stream",
          "name": "stdout",
          "text": [
            "Array filled with 3 (3x3):\n",
            " [[3 3 3]\n",
            " [3 3 3]\n",
            " [3 3 3]]\n"
          ]
        }
      ]
    },
    {
      "cell_type": "markdown",
      "source": [
        "4. Create a zeros array with the same shape and type as a given array using np.zeros_like()."
      ],
      "metadata": {
        "id": "LAagcrjAR6_Y"
      }
    },
    {
      "cell_type": "code",
      "source": [
        "arr = np.zeros_like(np.array([[1, 2], [3, 4]]))\n",
        "print(\"Zeros array with same shape: \\n\", arr)"
      ],
      "metadata": {
        "id": "soF9SsO_USH8",
        "colab": {
          "base_uri": "https://localhost:8080/"
        },
        "outputId": "c89c516f-9c39-42a5-bf8e-b437d2b72d01"
      },
      "execution_count": null,
      "outputs": [
        {
          "output_type": "stream",
          "name": "stdout",
          "text": [
            "Zeros array with same shape: \n",
            " [[0 0]\n",
            " [0 0]]\n"
          ]
        }
      ]
    },
    {
      "cell_type": "markdown",
      "source": [
        "5. Create an ones array with the same shape and type as a given array using np.ones_like()."
      ],
      "metadata": {
        "id": "STWFh1nnR9pc"
      }
    },
    {
      "cell_type": "code",
      "source": [
        "arr = np.ones_like(np.array([[1, 2], [3, 4]]))\n",
        "print(\"Ones array with same shape: \\n\", arr)"
      ],
      "metadata": {
        "id": "j9GvIvvkUSfm",
        "colab": {
          "base_uri": "https://localhost:8080/"
        },
        "outputId": "5c0e0f7c-a990-45a3-cf76-e02c1dd074e3"
      },
      "execution_count": null,
      "outputs": [
        {
          "output_type": "stream",
          "name": "stdout",
          "text": [
            "Ones array with same shape: \n",
            " [[1 1]\n",
            " [1 1]]\n"
          ]
        }
      ]
    },
    {
      "cell_type": "markdown",
      "source": [
        "6. Convert the list [1, 2, 3, 4] to a NumPy array."
      ],
      "metadata": {
        "id": "k-IR_-O_SAev"
      }
    },
    {
      "cell_type": "code",
      "source": [
        "arr = np.array([1, 2, 3])\n",
        "print(\"Converted list to numpy array: \\n\", arr)"
      ],
      "metadata": {
        "id": "j5mYKe4wUTPN",
        "colab": {
          "base_uri": "https://localhost:8080/"
        },
        "outputId": "1dd40147-a644-4abd-c09f-3bfcef7b9f79"
      },
      "execution_count": null,
      "outputs": [
        {
          "output_type": "stream",
          "name": "stdout",
          "text": [
            "Converted list to numpy array: \n",
            " [1 2 3]\n"
          ]
        }
      ]
    },
    {
      "cell_type": "markdown",
      "source": [
        "**Problem 2: Array Manipulation**\n",
        "\n",
        "1. Create an array with values from 10 to 49."
      ],
      "metadata": {
        "id": "cXlZHjLuSDTg"
      }
    },
    {
      "cell_type": "code",
      "source": [
        "arr = np.arange(10, 50)\n",
        "print(\"Array with values from 10 to 49: \\n\", arr)"
      ],
      "metadata": {
        "id": "vsEVsPOgU3Qf",
        "colab": {
          "base_uri": "https://localhost:8080/"
        },
        "outputId": "dcc65059-cd9a-4f32-f5c3-46ef447973b2"
      },
      "execution_count": null,
      "outputs": [
        {
          "output_type": "stream",
          "name": "stdout",
          "text": [
            "Array with values from 10 to 49: \n",
            " [10 11 12 13 14 15 16 17 18 19 20 21 22 23 24 25 26 27 28 29 30 31 32 33\n",
            " 34 35 36 37 38 39 40 41 42 43 44 45 46 47 48 49]\n"
          ]
        }
      ]
    },
    {
      "cell_type": "markdown",
      "source": [
        "2. Create a 3x3 matrix with values from 0 to 8."
      ],
      "metadata": {
        "id": "8AxjO2IVSKRk"
      }
    },
    {
      "cell_type": "code",
      "source": [
        "arr = np.reshape(np.arange(9), (3, 3))\n",
        "print(\"3x3 matrix from 0 to 8: \\n\", arr)\n"
      ],
      "metadata": {
        "id": "0k8LrgKCU5IZ",
        "colab": {
          "base_uri": "https://localhost:8080/"
        },
        "outputId": "3d2a6595-5eb9-4ecf-e67b-8b11e4d7b4a8"
      },
      "execution_count": null,
      "outputs": [
        {
          "output_type": "stream",
          "name": "stdout",
          "text": [
            "3x3 matrix from 0 to 8: \n",
            " [[0 1 2]\n",
            " [3 4 5]\n",
            " [6 7 8]]\n"
          ]
        }
      ]
    },
    {
      "cell_type": "markdown",
      "source": [
        "3. Create a 3x3 identity matrix."
      ],
      "metadata": {
        "id": "XRV73ciFSMk7"
      }
    },
    {
      "cell_type": "code",
      "source": [
        "arr = np.eye(3)\n",
        "print(\"3x3 identity matrix: \\n\", arr)"
      ],
      "metadata": {
        "id": "q1hSWdqRU7hw",
        "colab": {
          "base_uri": "https://localhost:8080/"
        },
        "outputId": "0497b007-9102-44b8-a48f-5858bd06d25d"
      },
      "execution_count": null,
      "outputs": [
        {
          "output_type": "stream",
          "name": "stdout",
          "text": [
            "3x3 identity matrix: \n",
            " [[1. 0. 0.]\n",
            " [0. 1. 0.]\n",
            " [0. 0. 1.]]\n"
          ]
        }
      ]
    },
    {
      "cell_type": "markdown",
      "source": [
        "4. Create a random array of size 30 and find its mean."
      ],
      "metadata": {
        "id": "re7IOMFPSOmI"
      }
    },
    {
      "cell_type": "code",
      "source": [
        "arr = np.random.random(30)\n",
        "print(\"Random array (size 30):\\n\", arr)\n",
        "print(\"Mean of the random array: \", arr.mean())"
      ],
      "metadata": {
        "id": "N-hbhjTFU9pE",
        "colab": {
          "base_uri": "https://localhost:8080/"
        },
        "outputId": "ada88741-410b-47eb-e364-cc4ae7f12980"
      },
      "execution_count": null,
      "outputs": [
        {
          "output_type": "stream",
          "name": "stdout",
          "text": [
            "Random array (size 30):\n",
            " [0.00214915 0.38881459 0.50525519 0.73776035 0.95537202 0.48801843\n",
            " 0.64163712 0.48151579 0.46773385 0.62608498 0.21962938 0.98420597\n",
            " 0.70964566 0.3824413  0.31663868 0.17285272 0.18805101 0.23327971\n",
            " 0.08899897 0.21378361 0.79481176 0.15993018 0.30514274 0.87990563\n",
            " 0.80638498 0.75638977 0.67556355 0.39295478 0.43592838 0.41528658]\n",
            "Mean of the random array:  0.4808722279612431\n"
          ]
        }
      ]
    },
    {
      "cell_type": "markdown",
      "source": [
        "5. Create a 10x10 array with random values and find its min and max."
      ],
      "metadata": {
        "id": "oWw0dPr2SQq4"
      }
    },
    {
      "cell_type": "code",
      "source": [
        "arr = np.random.random((10, 10))\n",
        "print(\"10x10 random array:\\n\", arr)\n",
        "print(\"Min value in array: \", arr.min())\n",
        "print(\"Max value in array: \", arr.max())"
      ],
      "metadata": {
        "id": "FKomOzkgU_k9",
        "colab": {
          "base_uri": "https://localhost:8080/"
        },
        "outputId": "c9e4cb2d-7d88-4901-c421-39a5f6cb67f4"
      },
      "execution_count": null,
      "outputs": [
        {
          "output_type": "stream",
          "name": "stdout",
          "text": [
            "10x10 random array:\n",
            " [[0.36470752 0.52199972 0.17282803 0.70978426 0.40933281 0.07509069\n",
            "  0.74566883 0.29371208 0.39569377 0.23232134]\n",
            " [0.77039818 0.6592821  0.1308961  0.49003674 0.0828346  0.88539961\n",
            "  0.24691557 0.51846005 0.92597433 0.57471666]\n",
            " [0.46163102 0.65307478 0.1455611  0.08198276 0.89628224 0.58341557\n",
            "  0.11145741 0.87626945 0.80365439 0.48614484]\n",
            " [0.01957532 0.04018344 0.34798237 0.69929829 0.72568544 0.14386027\n",
            "  0.82533149 0.9340268  0.8867955  0.1122775 ]\n",
            " [0.88830981 0.98418005 0.95454638 0.84015888 0.47361966 0.82118217\n",
            "  0.35459715 0.89414589 0.13568853 0.16193293]\n",
            " [0.26869916 0.94888198 0.32841632 0.64407271 0.9334596  0.03117297\n",
            "  0.22023815 0.66835932 0.44574871 0.49538109]\n",
            " [0.9136078  0.72462135 0.48269572 0.50800264 0.65097075 0.25132504\n",
            "  0.04977035 0.8092325  0.30682262 0.92627521]\n",
            " [0.12741297 0.3161371  0.88182887 0.12276609 0.85648656 0.5355928\n",
            "  0.09596015 0.92022466 0.71525456 0.70824837]\n",
            " [0.14296319 0.23169552 0.42851034 0.57015662 0.54888192 0.89846157\n",
            "  0.57347802 0.75583302 0.46343847 0.75530949]\n",
            " [0.54028567 0.23071327 0.78364037 0.04896779 0.86798374 0.13561071\n",
            "  0.50639061 0.0304578  0.64364533 0.7495439 ]]\n",
            "Min value in array:  0.019575322028411057\n",
            "Max value in array:  0.9841800466625371\n"
          ]
        }
      ]
    },
    {
      "cell_type": "markdown",
      "source": [
        "6. Create a zero array of size 10 and replace the 5th element with 1."
      ],
      "metadata": {
        "id": "PnGKzrJWSSrL"
      }
    },
    {
      "cell_type": "code",
      "source": [
        "arr = np.zeros(10)\n",
        "arr[4] = 1\n",
        "print(\"Zero array with 5th element replaced by 1: \\n\", arr)"
      ],
      "metadata": {
        "id": "7poSMmKlVUMD",
        "colab": {
          "base_uri": "https://localhost:8080/"
        },
        "outputId": "8ea8c7ff-0fa7-4aba-e412-6ee94ae73d11"
      },
      "execution_count": null,
      "outputs": [
        {
          "output_type": "stream",
          "name": "stdout",
          "text": [
            "Zero array with 5th element replaced by 1: \n",
            " [0. 0. 0. 0. 1. 0. 0. 0. 0. 0.]\n"
          ]
        }
      ]
    },
    {
      "cell_type": "markdown",
      "source": [
        "7. Reverse the array [1, 2, 0, 0, 4, 0]."
      ],
      "metadata": {
        "id": "bWHi-CtxSUoe"
      }
    },
    {
      "cell_type": "code",
      "source": [
        "arr = np.array([1, 2, 0, 0, 4, 0])\n",
        "arr = arr[::-1]\n",
        "print(\"Reversed array: \\n\", arr)"
      ],
      "metadata": {
        "id": "tE3eQ5GzVYVG",
        "colab": {
          "base_uri": "https://localhost:8080/"
        },
        "outputId": "276fd6a0-0950-41e5-aef8-3f02df01faed"
      },
      "execution_count": null,
      "outputs": [
        {
          "output_type": "stream",
          "name": "stdout",
          "text": [
            "Reversed array: \n",
            " [0 4 0 0 2 1]\n"
          ]
        }
      ]
    },
    {
      "cell_type": "markdown",
      "source": [
        "8. Create a 2D array with 1 on the border and 0 inside."
      ],
      "metadata": {
        "id": "GErfyFqISWZ_"
      }
    },
    {
      "cell_type": "code",
      "source": [
        "arr = np.ones((5, 5))\n",
        "arr[1:-1, 1:-1] = 0\n",
        "print(\"2D array with 1 on the border and 0 inside: \\n\", arr)"
      ],
      "metadata": {
        "id": "ZaT1ADJiVjpi",
        "colab": {
          "base_uri": "https://localhost:8080/"
        },
        "outputId": "7cecc0a8-7816-4e8f-92dd-b43e6bbf5ad3"
      },
      "execution_count": null,
      "outputs": [
        {
          "output_type": "stream",
          "name": "stdout",
          "text": [
            "2D array with 1 on the border and 0 inside: \n",
            " [[1. 1. 1. 1. 1.]\n",
            " [1. 0. 0. 0. 1.]\n",
            " [1. 0. 0. 0. 1.]\n",
            " [1. 0. 0. 0. 1.]\n",
            " [1. 1. 1. 1. 1.]]\n"
          ]
        }
      ]
    },
    {
      "cell_type": "markdown",
      "source": [
        "9. Create an 8x8 checkerboard pattern."
      ],
      "metadata": {
        "id": "L1URNBi-SYPf"
      }
    },
    {
      "cell_type": "code",
      "source": [
        "arr = np.zeros((8, 8), dtype=int)\n",
        "arr[1::2, ::2] = 1\n",
        "arr[::2, 1::2] = 1\n",
        "print(\"8x8 Checkerboard pattern: \\n\", arr)"
      ],
      "metadata": {
        "id": "cKyY8GJ1VgyZ",
        "colab": {
          "base_uri": "https://localhost:8080/"
        },
        "outputId": "16b24318-b0e0-4877-8f81-8208f4369152"
      },
      "execution_count": null,
      "outputs": [
        {
          "output_type": "stream",
          "name": "stdout",
          "text": [
            "8x8 Checkerboard pattern: \n",
            " [[0 1 0 1 0 1 0 1]\n",
            " [1 0 1 0 1 0 1 0]\n",
            " [0 1 0 1 0 1 0 1]\n",
            " [1 0 1 0 1 0 1 0]\n",
            " [0 1 0 1 0 1 0 1]\n",
            " [1 0 1 0 1 0 1 0]\n",
            " [0 1 0 1 0 1 0 1]\n",
            " [1 0 1 0 1 0 1 0]]\n"
          ]
        }
      ]
    },
    {
      "cell_type": "markdown",
      "source": [
        "**Problem 3: Array Operations**\n",
        "\n",
        "Given x = np.array([[1, 2], [3, 5]]) and y = np.array([[5, 6], [7, 8]]), and v = np.array([9, 10]), w = np.array([11, 12]):\n"
      ],
      "metadata": {
        "id": "Atz76EutSazo"
      }
    },
    {
      "cell_type": "code",
      "source": [
        "x = np.array([[1, 2], [3, 5]])\n",
        "y = np.array([[5, 6], [7, 8]])"
      ],
      "metadata": {
        "id": "woYj5HCYWTIH"
      },
      "execution_count": null,
      "outputs": []
    },
    {
      "cell_type": "markdown",
      "source": [
        "1. Add the two arrays x and y."
      ],
      "metadata": {
        "id": "ytDAU6jPWI_D"
      }
    },
    {
      "cell_type": "code",
      "source": [
        "arr = x + y\n",
        "print(\"Sum of x and y: \\n\", arr)"
      ],
      "metadata": {
        "id": "VRdvjdtDWEro",
        "colab": {
          "base_uri": "https://localhost:8080/"
        },
        "outputId": "43ba974c-d495-43b2-b2c8-e6c7597768f6"
      },
      "execution_count": null,
      "outputs": [
        {
          "output_type": "stream",
          "name": "stdout",
          "text": [
            "Sum of x and y: \n",
            " [[ 6  8]\n",
            " [10 13]]\n"
          ]
        }
      ]
    },
    {
      "cell_type": "markdown",
      "source": [
        "2. Subtract y from x."
      ],
      "metadata": {
        "id": "kXoDr21-Sg4s"
      }
    },
    {
      "cell_type": "code",
      "source": [
        "arr = x - y\n",
        "print(\"Difference of x and y: \\n\", arr)"
      ],
      "metadata": {
        "id": "YjFTK0EvWW9F",
        "colab": {
          "base_uri": "https://localhost:8080/"
        },
        "outputId": "42d46aea-8b71-42aa-8148-a4e603f39f26"
      },
      "execution_count": null,
      "outputs": [
        {
          "output_type": "stream",
          "name": "stdout",
          "text": [
            "Difference of x and y: \n",
            " [[-4 -4]\n",
            " [-4 -3]]\n"
          ]
        }
      ]
    },
    {
      "cell_type": "markdown",
      "source": [
        "3. Multiply x with a scalar."
      ],
      "metadata": {
        "id": "Fc446GqLSi3q"
      }
    },
    {
      "cell_type": "code",
      "source": [
        "arr = x * 2\n",
        "print(\"x multiplied by 2: \\n\", arr)\n"
      ],
      "metadata": {
        "id": "kfX2pzLvWXTe",
        "colab": {
          "base_uri": "https://localhost:8080/"
        },
        "outputId": "36113966-7fd2-4c2c-c31b-13018e5436e4"
      },
      "execution_count": null,
      "outputs": [
        {
          "output_type": "stream",
          "name": "stdout",
          "text": [
            "x multiplied by 2: \n",
            " [[ 2  4]\n",
            " [ 6 10]]\n"
          ]
        }
      ]
    },
    {
      "cell_type": "markdown",
      "source": [
        "4. Find the square of each element in x."
      ],
      "metadata": {
        "id": "vxDPWI13SktK"
      }
    },
    {
      "cell_type": "code",
      "source": [
        "arr = np.square(x)\n",
        "print(\"Square of each element in x: \\n\", arr)\n"
      ],
      "metadata": {
        "id": "TvRQy0iKWX1i",
        "colab": {
          "base_uri": "https://localhost:8080/"
        },
        "outputId": "cd16e314-9913-4848-96fb-eb7188f5f4ca"
      },
      "execution_count": null,
      "outputs": [
        {
          "output_type": "stream",
          "name": "stdout",
          "text": [
            "Square of each element in x: \n",
            " [[ 1  4]\n",
            " [ 9 25]]\n"
          ]
        }
      ]
    },
    {
      "cell_type": "markdown",
      "source": [
        "5. Find dot products: v.w, x.v, and x.y."
      ],
      "metadata": {
        "id": "8C_7V1KYSmuu"
      }
    },
    {
      "cell_type": "code",
      "source": [
        "v = np.array([9, 10])\n",
        "w = np.array([11, 12])\n",
        "arr = np.dot(v, w)\n",
        "print(\"Dot product of v and w: \", arr)\n",
        "\n",
        "arr = np.dot(x, v)\n",
        "print(\"Dot product of x and v: \\n\", arr)\n",
        "\n",
        "arr = np.dot(x, y)\n",
        "print(\"Dot product of x and y: \\n\", arr)"
      ],
      "metadata": {
        "id": "8CtGxIFyWfcK",
        "colab": {
          "base_uri": "https://localhost:8080/"
        },
        "outputId": "bca8e5e7-b9ca-43a4-f82b-c0b2c332bb9f"
      },
      "execution_count": null,
      "outputs": [
        {
          "output_type": "stream",
          "name": "stdout",
          "text": [
            "Dot product of v and w:  219\n",
            "Dot product of x and v: \n",
            " [29 77]\n",
            "Dot product of x and y: \n",
            " [[19 22]\n",
            " [50 58]]\n"
          ]
        }
      ]
    },
    {
      "cell_type": "markdown",
      "source": [
        "6. Concatenate x and y along rows and v and w along columns."
      ],
      "metadata": {
        "id": "itSF2QWpSol5"
      }
    },
    {
      "cell_type": "code",
      "source": [
        "arr = np.concatenate((x, y), axis=0)\n",
        "print(\"Concatenation of x and y along rows: \\n\", arr)\n",
        "\n",
        "arr = np.concatenate((v.reshape(-1, 1), w.reshape(-1, 1)), axis=1)\n",
        "print(\"Concatenation of v and w along columns: \\n\", arr)\n"
      ],
      "metadata": {
        "id": "OKAGwvCRWhW6",
        "colab": {
          "base_uri": "https://localhost:8080/"
        },
        "outputId": "7226f9cf-0ef3-4de1-b3d7-25f2237fb47e"
      },
      "execution_count": null,
      "outputs": [
        {
          "output_type": "stream",
          "name": "stdout",
          "text": [
            "Concatenation of x and y along rows: \n",
            " [[1 2]\n",
            " [3 5]\n",
            " [5 6]\n",
            " [7 8]]\n",
            "Concatenation of v and w along columns: \n",
            " [[ 9 11]\n",
            " [10 12]]\n"
          ]
        }
      ]
    },
    {
      "cell_type": "markdown",
      "source": [
        "7. Concatenate x and v; explain any errors."
      ],
      "metadata": {
        "id": "EFeE9fEdSqwT"
      }
    },
    {
      "cell_type": "code",
      "source": [
        "try:\n",
        "    arr = np.concatenate((x, v), axis=1)  # This will raise an error due to shape mismatch\n",
        "    print(\"Concatenation of x and v along columns: \\n\", arr)\n",
        "except Exception as e:\n",
        "    print(\"Error concatenating x and v along columns: \", e)"
      ],
      "metadata": {
        "id": "JpWXIHjRWr6C",
        "colab": {
          "base_uri": "https://localhost:8080/"
        },
        "outputId": "18ad3ced-b29a-4d11-84df-2969d58e1784"
      },
      "execution_count": null,
      "outputs": [
        {
          "output_type": "stream",
          "name": "stdout",
          "text": [
            "Error concatenating x and v along columns:  all the input arrays must have same number of dimensions, but the array at index 0 has 2 dimension(s) and the array at index 1 has 1 dimension(s)\n"
          ]
        }
      ]
    },
    {
      "cell_type": "markdown",
      "source": [
        "**Problem 4: Matrix Operations**\n",
        "\n",
        "Given A = np.array([[3, 4], [7, 8]]) and B = np.array([[5, 3], [2, 1]]):\n",
        "\n",
        "Prove A.A⁻¹ = I (Identity matrix).\n",
        "1. Prove AB = BA.\n",
        "2. Prove (AB)ᵀ = BᵀAᵀ.\n",
        "3. Solve the system of linear equations using Inverse Methods:\n",
        "*   2x - 3y + z = -1\n",
        "*   x - y + 2z = -3\n",
        "*   3x + y - z = 9\n",
        "\n"
      ],
      "metadata": {
        "id": "YAV8_AYqStVt"
      }
    },
    {
      "cell_type": "code",
      "execution_count": null,
      "metadata": {
        "id": "YRuHV8y18mLV",
        "colab": {
          "base_uri": "https://localhost:8080/"
        },
        "outputId": "0ef9f314-9961-4834-f0ce-c617aa251049"
      },
      "outputs": [
        {
          "output_type": "stream",
          "name": "stdout",
          "text": [
            "\n",
            "1. A * A⁻¹ = I (Identity Matrix):\n",
            " [[1. 0.]\n",
            " [0. 1.]]\n",
            "\n",
            "2. Matrix Multiplication Commutativity:\n",
            "AB = \n",
            " [[23 13]\n",
            " [51 29]]\n",
            "\n",
            "BA = \n",
            " [[36 44]\n",
            " [13 16]]\n",
            "\n",
            "AB ≠ BA, so matrices A and B do not commute.\n",
            "\n",
            "3. Transpose Property: (AB)ᵀ = Bᵀ * Aᵀ\n",
            "(AB)ᵀ = \n",
            " [[23 51]\n",
            " [13 29]]\n",
            "\n",
            "Bᵀ * Aᵀ = \n",
            " [[23 51]\n",
            " [13 29]]\n",
            "\n",
            "(AB)ᵀ = Bᵀ * Aᵀ holds true.\n",
            "\n",
            "4. Solving the system of linear equations:\n",
            "   2x - 3y + z  = -1\n",
            "   x  -  y + 2z = -3\n",
            "   3x +  y - z  =  9\n",
            "\n",
            "Solution using np.linalg.solve:\n",
            "x = 2.00, y = 1.00, z = -2.00\n",
            "\n",
            "Solution using inverse method:\n",
            "x = 2.00, y = 1.00, z = -2.00\n"
          ]
        }
      ],
      "source": [
        "import numpy as np\n",
        "\n",
        "# Question 1: Prove A * A⁻¹ = I (Identity Matrix)\n",
        "A = np.array([[3, 4], [7, 8]])\n",
        "A_inv = np.linalg.inv(A)\n",
        "I = np.dot(A, A_inv)\n",
        "print(\"\\n1. A * A⁻¹ = I (Identity Matrix):\\n\", np.round(I, 2))\n",
        "\n",
        "# Question 2: Prove AB = BA (Check commutativity)\n",
        "B = np.array([[5, 3], [2, 1]])\n",
        "AB = np.dot(A, B)\n",
        "BA = np.dot(B, A)\n",
        "print(\"\\n2. Matrix Multiplication Commutativity:\")\n",
        "print(\"AB = \\n\", AB)\n",
        "print(\"\\nBA = \\n\", BA)\n",
        "\n",
        "if np.array_equal(AB, BA):\n",
        "    print(\"\\nAB = BA, so matrices A and B commute.\")\n",
        "else:\n",
        "    print(\"\\nAB ≠ BA, so matrices A and B do not commute.\")\n",
        "\n",
        "# Question 3: Prove (AB)ᵀ = Bᵀ * Aᵀ\n",
        "AB_T = np.transpose(AB)\n",
        "BT_AT = np.dot(np.transpose(B), np.transpose(A))\n",
        "print(\"\\n3. Transpose Property: (AB)ᵀ = Bᵀ * Aᵀ\")\n",
        "print(\"(AB)ᵀ = \\n\", AB_T)\n",
        "print(\"\\nBᵀ * Aᵀ = \\n\", BT_AT)\n",
        "\n",
        "if np.array_equal(AB_T, BT_AT):\n",
        "    print(\"\\n(AB)ᵀ = Bᵀ * Aᵀ holds true.\")\n",
        "else:\n",
        "    print(\"\\n(AB)ᵀ ≠ Bᵀ * Aᵀ, which contradicts the property.\")\n",
        "\n",
        "# Question 4: Solve the system of linear equations using Inverse Methods\n",
        "print(\"\\n4. Solving the system of linear equations:\")\n",
        "print(\"   2x - 3y + z  = -1\")\n",
        "print(\"   x  -  y + 2z = -3\")\n",
        "print(\"   3x +  y - z  =  9\")\n",
        "\n",
        "A_eq = np.array([[2, -3, 1], [1, -1, 2], [3, 1, -1]])\n",
        "B_eq = np.array([-1, -3, 9])\n",
        "\n",
        "# Solution using np.linalg.solve\n",
        "X = np.linalg.solve(A_eq, B_eq)\n",
        "print(\"\\nSolution using np.linalg.solve:\")\n",
        "print(f\"x = {X[0]:.2f}, y = {X[1]:.2f}, z = {X[2]:.2f}\")\n",
        "\n",
        "# Solution using matrix inverse\n",
        "A_inv_eq = np.linalg.inv(A_eq)\n",
        "X_inv_method = np.dot(A_inv_eq, B_eq)\n",
        "print(\"\\nSolution using inverse method:\")\n",
        "print(f\"x = {X_inv_method[0]:.2f}, y = {X_inv_method[1]:.2f}, z = {X_inv_method[2]:.2f}\")\n"
      ]
    },
    {
      "cell_type": "markdown",
      "source": [
        "# **10.2 Experiment: How Fast is NumPy?**\n",
        "Compare the performance of Python lists and NumPy arrays for:\n",
        "\n",
        "\n",
        "\n"
      ],
      "metadata": {
        "id": "7RYUEypNZaYM"
      }
    },
    {
      "cell_type": "code",
      "source": [
        "import time\n",
        "\n",
        "size = 1_000_000\n",
        "list1, list2 = list(range(size)), list(range(size))\n",
        "array1, array2 = np.arange(size), np.arange(size)"
      ],
      "metadata": {
        "id": "4s9jXGa8avDl"
      },
      "execution_count": null,
      "outputs": []
    },
    {
      "cell_type": "markdown",
      "source": [
        "**1. Element-wise Addition**\n",
        "\n",
        "\n",
        "*   Add two lists (size 1,000,000) and measure the time.\n",
        "*  Add two NumPy arrays (size 1,000,000) and measure the time."
      ],
      "metadata": {
        "id": "u50IFGA2aqMa"
      }
    },
    {
      "cell_type": "code",
      "source": [
        "start = time.time()\n",
        "list_sum = [a + b for a, b in zip(list1, list2)]\n",
        "end = time.time()\n",
        "print(\"Python List Addition Time:\", end - start)\n",
        "\n",
        "start = time.time()\n",
        "numpy_sum = array1 + array2\n",
        "end = time.time()\n",
        "print(\"NumPy Array Addition Time:\", end - start)"
      ],
      "metadata": {
        "id": "CWA1NmA2ahH7",
        "colab": {
          "base_uri": "https://localhost:8080/"
        },
        "outputId": "db300ff0-42f4-4a2f-d1ba-06c2b8bf5aeb"
      },
      "execution_count": null,
      "outputs": [
        {
          "output_type": "stream",
          "name": "stdout",
          "text": [
            "Python List Addition Time: 0.060423851013183594\n",
            "NumPy Array Addition Time: 0.00570225715637207\n"
          ]
        }
      ]
    },
    {
      "cell_type": "markdown",
      "source": [
        "**2. Element-wise Multiplication**\n",
        "\n",
        "*   Multiply two lists (size 1,000,000) and measure the time.\n",
        "*   Multiply two NumPy arrays (size 1,000,000) and measure the time."
      ],
      "metadata": {
        "id": "zdLJiH9AZpJ4"
      }
    },
    {
      "cell_type": "code",
      "source": [
        "start = time.time()\n",
        "list_mult = [a * b for a, b in zip(list1, list2)]\n",
        "end = time.time()\n",
        "print(\"Python List Multiplication Time:\", end - start)\n",
        "\n",
        "start = time.time()\n",
        "numpy_mult = array1 * array2\n",
        "end = time.time()\n",
        "print(\"NumPy Array Multiplication Time:\", end - start)"
      ],
      "metadata": {
        "id": "IWqcgQqtajsK",
        "colab": {
          "base_uri": "https://localhost:8080/"
        },
        "outputId": "199a4dbc-3074-46a9-a4f3-763dc0e73d46"
      },
      "execution_count": null,
      "outputs": [
        {
          "output_type": "stream",
          "name": "stdout",
          "text": [
            "Python List Multiplication Time: 0.05883526802062988\n",
            "NumPy Array Multiplication Time: 0.0038454532623291016\n"
          ]
        }
      ]
    },
    {
      "cell_type": "markdown",
      "source": [
        "**3. Dot Product**\n",
        "\n",
        "*  Compute dot product using lists (size 1,000,000) and measure the time.\n",
        "*  Compute dot product using NumPy arrays (size 1,000,000) and measure the time."
      ],
      "metadata": {
        "id": "JnLvSYs6Z9uY"
      }
    },
    {
      "cell_type": "code",
      "source": [
        "start = time.time()\n",
        "dot_product = sum(a * b for a, b in zip(list1, list2))\n",
        "end = time.time()\n",
        "print(\"Python List Dot Product Time:\", end - start)\n",
        "\n",
        "start = time.time()\n",
        "numpy_dot_product = np.dot(array1, array2)\n",
        "end = time.time()\n",
        "print(\"NumPy Array Dot Product Time:\", end - start)"
      ],
      "metadata": {
        "id": "ACY2c0Dda_GU",
        "colab": {
          "base_uri": "https://localhost:8080/"
        },
        "outputId": "2bb6d777-fa88-4283-c4d6-eaa00321bfaa"
      },
      "execution_count": null,
      "outputs": [
        {
          "output_type": "stream",
          "name": "stdout",
          "text": [
            "Python List Dot Product Time: 0.07057929039001465\n",
            "NumPy Array Dot Product Time: 0.0016374588012695312\n"
          ]
        }
      ]
    },
    {
      "cell_type": "markdown",
      "source": [
        "**4. Matrix Multiplication**\n",
        "\n",
        "*  Multiply two 1000×1000 matrices using lists and measure the time.\n",
        "*  Multiply two 1000×1000 matrices using NumPy and measure the time."
      ],
      "metadata": {
        "id": "EpH26Fe_aF6h"
      }
    },
    {
      "cell_type": "code",
      "source": [
        "matrix_size = 1000\n",
        "matrix1 = [[i for i in range(matrix_size)] for _ in range(matrix_size)]\n",
        "matrix2 = [[i for i in range(matrix_size)] for _ in range(matrix_size)]\n",
        "\n",
        "start = time.time()\n",
        "result_matrix = [[sum(a * b for a, b in zip(row, col)) for col in zip(*matrix2)] for row in matrix1]\n",
        "end = time.time()\n",
        "print(\"Python List Matrix Multiplication Time:\", end - start)\n",
        "\n",
        "matrix1_np = np.random.random((matrix_size, matrix_size))\n",
        "matrix2_np = np.random.random((matrix_size, matrix_size))\n",
        "\n",
        "start = time.time()\n",
        "numpy_matrix_mult = np.dot(matrix1_np, matrix2_np)\n",
        "end = time.time()\n",
        "print(\"NumPy Array Matrix Multiplication Time:\", end - start)"
      ],
      "metadata": {
        "id": "QwMw2ZIoabJ4",
        "colab": {
          "base_uri": "https://localhost:8080/"
        },
        "outputId": "6b67a602-a1d8-4bf7-e32a-9f9d3a917bf2"
      },
      "execution_count": null,
      "outputs": [
        {
          "output_type": "stream",
          "name": "stdout",
          "text": [
            "Python List Matrix Multiplication Time: 142.72239542007446\n",
            "NumPy Array Matrix Multiplication Time: 0.05358767509460449\n"
          ]
        }
      ]
    }
  ]
}