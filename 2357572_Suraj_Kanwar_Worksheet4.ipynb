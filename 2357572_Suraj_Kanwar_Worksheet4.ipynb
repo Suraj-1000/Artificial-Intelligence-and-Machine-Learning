{
  "nbformat": 4,
  "nbformat_minor": 0,
  "metadata": {
    "colab": {
      "provenance": []
    },
    "kernelspec": {
      "name": "python3",
      "display_name": "Python 3"
    },
    "language_info": {
      "name": "python"
    }
  },
  "cells": [
    {
      "cell_type": "markdown",
      "source": [
        "\n",
        "```\n",
        "Student ID: 2357572\n",
        "Student Name: Suraj Kanwar\n",
        "```\n",
        "\n"
      ],
      "metadata": {
        "id": "KjMbN58Hc2EJ"
      }
    },
    {
      "cell_type": "markdown",
      "source": [
        "**Exercise:** Build a Neural Network to Recognize Devnagari Handwritten Digits\n",
        "\n",
        "**Goal:** Create and train a neural network to identify Devnagari digits (0-9) using Python, TensorFlow, and Keras working with images from a dataset, process them, and build a model to classify them."
      ],
      "metadata": {
        "id": "IcyrHRnegn43"
      }
    },
    {
      "cell_type": "code",
      "execution_count": 43,
      "metadata": {
        "colab": {
          "base_uri": "https://localhost:8080/",
          "height": 0
        },
        "id": "j5CvHtZ7cqpA",
        "outputId": "4ec96b2e-8a96-4482-88e7-528e82491ad6"
      },
      "outputs": [
        {
          "output_type": "stream",
          "name": "stdout",
          "text": [
            "Drive already mounted at /content/drive; to attempt to forcibly remount, call drive.mount(\"/content/drive\", force_remount=True).\n"
          ]
        }
      ],
      "source": [
        "from google.colab import drive\n",
        "drive.mount('/content/drive')"
      ]
    },
    {
      "cell_type": "code",
      "source": [
        "# Import necessary libraries\n",
        "import os\n",
        "import numpy as np\n",
        "import tensorflow as tf\n",
        "from tensorflow.keras import layers, models\n",
        "from tensorflow.keras.utils import to_categorical\n",
        "from tensorflow.keras.callbacks import ModelCheckpoint, EarlyStopping\n",
        "from PIL import Image\n",
        "import matplotlib.pyplot as plt"
      ],
      "metadata": {
        "id": "CSMj4G_Nj2YQ"
      },
      "execution_count": 44,
      "outputs": []
    },
    {
      "cell_type": "markdown",
      "source": [
        "#Task 1: Data Preparation:\n",
        "\n",
        "* Download the Devnagari digits dataset folder provided.\n",
        "* Use the Python Imaging Library (PIL) to load the images from the \"Train\" and \"Test\" folders.\n",
        "* Turn the images into numbers (Numpy arrays) and adjust their values to be between 0 and 1 (normalization).\n",
        "* Resize all images to 28x28 pixels.\n",
        "* Label each image based on its folder (e.g., \"digit_0\" = 0, \"digit_1\" = 1, etc.).\n",
        "* Convert the labels into a format the model can use (one-hot encoding)."
      ],
      "metadata": {
        "id": "zhHxZQTwgT5h"
      }
    },
    {
      "cell_type": "code",
      "source": [
        "# Task 1: Data Preparation\n",
        "train_dir = \"/content/drive/MyDrive/Artificial Intelligence and Machine Learning/Week:4/Copy of devnagari digit/DevanagariHandwrittenDigitDataset/Train\"\n",
        "test_dir = \"/content/drive/MyDrive/Artificial Intelligence and Machine Learning/Week:4/Copy of devnagari digit/DevanagariHandwrittenDigitDataset/Test\"\n",
        "img_size = 28  # 28x28 images\n",
        "\n",
        "# Function to load images and labels\n",
        "def load_images(folder):\n",
        "    images = []\n",
        "    labels = []\n",
        "    for digit in range(10):  # Folders named digit_0 to digit_9\n",
        "        folder_path = os.path.join(folder, f\"digit_{digit}\")\n",
        "        for filename in os.listdir(folder_path):\n",
        "            img_path = os.path.join(folder_path, filename)\n",
        "            img = Image.open(img_path).convert(\"L\")  # Grayscale\n",
        "            img = img.resize((img_size, img_size))  # Resize to 28x28\n",
        "            img = np.array(img) / 255.0  # Normalize to [0, 1]\n",
        "            images.append(img.flatten())  # Flatten to 784 values\n",
        "            labels.append(digit)\n",
        "    return np.array(images), np.array(labels)\n",
        "\n",
        "# Load training and testing data\n",
        "x_train, y_train = load_images(train_dir)\n",
        "x_test, y_test = load_images(test_dir)\n",
        "\n",
        "# One-hot encode labels\n",
        "y_train = to_categorical(y_train, 10)\n",
        "y_test = to_categorical(y_test, 10)\n",
        "\n",
        "print(f\"Training data shape: {x_train.shape}\")\n",
        "print(f\"Testing data shape: {x_test.shape}\")"
      ],
      "metadata": {
        "colab": {
          "base_uri": "https://localhost:8080/",
          "height": 0
        },
        "id": "gpbS3iDRkRD2",
        "outputId": "c7ca2122-c6e2-4061-dded-dc2c8ead069c"
      },
      "execution_count": 45,
      "outputs": [
        {
          "output_type": "stream",
          "name": "stdout",
          "text": [
            "Training data shape: (17000, 784)\n",
            "Testing data shape: (3000, 784)\n"
          ]
        }
      ]
    },
    {
      "cell_type": "markdown",
      "source": [
        "#Task 2: Build the FCN Model\n",
        "\n",
        "* Make a simple model using Keras’ Sequential style.\n",
        "* Add 3 hidden layers:\n",
        "> * First layer: 64 neurons with a sigmoid activation.\n",
        "> * Second layer: 128 neurons with a sigmoid activation.\n",
        "> * Third layer: 256 neurons with a sigmoid activation.\n",
        "* Add an output layer with 10 neurons (one for each digit) and use a softmax activation.\n"
      ],
      "metadata": {
        "id": "6gp-D8a5hMsN"
      }
    },
    {
      "cell_type": "code",
      "source": [
        "# Task 2: Build the FCN Model\n",
        "model = models.Sequential([\n",
        "    layers.Input(shape=(784,)),  # Explicit Input layer\n",
        "    layers.Dense(64, activation='sigmoid'),\n",
        "    layers.Dense(128, activation='sigmoid'),\n",
        "    layers.Dense(256, activation='sigmoid'),\n",
        "    layers.Dense(10, activation='softmax')\n",
        "])\n",
        "\n",
        "# Display model summary\n",
        "model.summary()"
      ],
      "metadata": {
        "colab": {
          "base_uri": "https://localhost:8080/",
          "height": 257
        },
        "id": "CdHu84x6kzbi",
        "outputId": "7b7eaead-0c89-4355-82b2-c459ca367fe8"
      },
      "execution_count": 46,
      "outputs": [
        {
          "output_type": "display_data",
          "data": {
            "text/plain": [
              "\u001b[1mModel: \"sequential_6\"\u001b[0m\n"
            ],
            "text/html": [
              "<pre style=\"white-space:pre;overflow-x:auto;line-height:normal;font-family:Menlo,'DejaVu Sans Mono',consolas,'Courier New',monospace\"><span style=\"font-weight: bold\">Model: \"sequential_6\"</span>\n",
              "</pre>\n"
            ]
          },
          "metadata": {}
        },
        {
          "output_type": "display_data",
          "data": {
            "text/plain": [
              "┏━━━━━━━━━━━━━━━━━━━━━━━━━━━━━━━━━━━━━━┳━━━━━━━━━━━━━━━━━━━━━━━━━━━━━┳━━━━━━━━━━━━━━━━━┓\n",
              "┃\u001b[1m \u001b[0m\u001b[1mLayer (type)                        \u001b[0m\u001b[1m \u001b[0m┃\u001b[1m \u001b[0m\u001b[1mOutput Shape               \u001b[0m\u001b[1m \u001b[0m┃\u001b[1m \u001b[0m\u001b[1m        Param #\u001b[0m\u001b[1m \u001b[0m┃\n",
              "┡━━━━━━━━━━━━━━━━━━━━━━━━━━━━━━━━━━━━━━╇━━━━━━━━━━━━━━━━━━━━━━━━━━━━━╇━━━━━━━━━━━━━━━━━┩\n",
              "│ dense_24 (\u001b[38;5;33mDense\u001b[0m)                     │ (\u001b[38;5;45mNone\u001b[0m, \u001b[38;5;34m64\u001b[0m)                  │          \u001b[38;5;34m50,240\u001b[0m │\n",
              "├──────────────────────────────────────┼─────────────────────────────┼─────────────────┤\n",
              "│ dense_25 (\u001b[38;5;33mDense\u001b[0m)                     │ (\u001b[38;5;45mNone\u001b[0m, \u001b[38;5;34m128\u001b[0m)                 │           \u001b[38;5;34m8,320\u001b[0m │\n",
              "├──────────────────────────────────────┼─────────────────────────────┼─────────────────┤\n",
              "│ dense_26 (\u001b[38;5;33mDense\u001b[0m)                     │ (\u001b[38;5;45mNone\u001b[0m, \u001b[38;5;34m256\u001b[0m)                 │          \u001b[38;5;34m33,024\u001b[0m │\n",
              "├──────────────────────────────────────┼─────────────────────────────┼─────────────────┤\n",
              "│ dense_27 (\u001b[38;5;33mDense\u001b[0m)                     │ (\u001b[38;5;45mNone\u001b[0m, \u001b[38;5;34m10\u001b[0m)                  │           \u001b[38;5;34m2,570\u001b[0m │\n",
              "└──────────────────────────────────────┴─────────────────────────────┴─────────────────┘\n"
            ],
            "text/html": [
              "<pre style=\"white-space:pre;overflow-x:auto;line-height:normal;font-family:Menlo,'DejaVu Sans Mono',consolas,'Courier New',monospace\">┏━━━━━━━━━━━━━━━━━━━━━━━━━━━━━━━━━━━━━━┳━━━━━━━━━━━━━━━━━━━━━━━━━━━━━┳━━━━━━━━━━━━━━━━━┓\n",
              "┃<span style=\"font-weight: bold\"> Layer (type)                         </span>┃<span style=\"font-weight: bold\"> Output Shape                </span>┃<span style=\"font-weight: bold\">         Param # </span>┃\n",
              "┡━━━━━━━━━━━━━━━━━━━━━━━━━━━━━━━━━━━━━━╇━━━━━━━━━━━━━━━━━━━━━━━━━━━━━╇━━━━━━━━━━━━━━━━━┩\n",
              "│ dense_24 (<span style=\"color: #0087ff; text-decoration-color: #0087ff\">Dense</span>)                     │ (<span style=\"color: #00d7ff; text-decoration-color: #00d7ff\">None</span>, <span style=\"color: #00af00; text-decoration-color: #00af00\">64</span>)                  │          <span style=\"color: #00af00; text-decoration-color: #00af00\">50,240</span> │\n",
              "├──────────────────────────────────────┼─────────────────────────────┼─────────────────┤\n",
              "│ dense_25 (<span style=\"color: #0087ff; text-decoration-color: #0087ff\">Dense</span>)                     │ (<span style=\"color: #00d7ff; text-decoration-color: #00d7ff\">None</span>, <span style=\"color: #00af00; text-decoration-color: #00af00\">128</span>)                 │           <span style=\"color: #00af00; text-decoration-color: #00af00\">8,320</span> │\n",
              "├──────────────────────────────────────┼─────────────────────────────┼─────────────────┤\n",
              "│ dense_26 (<span style=\"color: #0087ff; text-decoration-color: #0087ff\">Dense</span>)                     │ (<span style=\"color: #00d7ff; text-decoration-color: #00d7ff\">None</span>, <span style=\"color: #00af00; text-decoration-color: #00af00\">256</span>)                 │          <span style=\"color: #00af00; text-decoration-color: #00af00\">33,024</span> │\n",
              "├──────────────────────────────────────┼─────────────────────────────┼─────────────────┤\n",
              "│ dense_27 (<span style=\"color: #0087ff; text-decoration-color: #0087ff\">Dense</span>)                     │ (<span style=\"color: #00d7ff; text-decoration-color: #00d7ff\">None</span>, <span style=\"color: #00af00; text-decoration-color: #00af00\">10</span>)                  │           <span style=\"color: #00af00; text-decoration-color: #00af00\">2,570</span> │\n",
              "└──────────────────────────────────────┴─────────────────────────────┴─────────────────┘\n",
              "</pre>\n"
            ]
          },
          "metadata": {}
        },
        {
          "output_type": "display_data",
          "data": {
            "text/plain": [
              "\u001b[1m Total params: \u001b[0m\u001b[38;5;34m94,154\u001b[0m (367.79 KB)\n"
            ],
            "text/html": [
              "<pre style=\"white-space:pre;overflow-x:auto;line-height:normal;font-family:Menlo,'DejaVu Sans Mono',consolas,'Courier New',monospace\"><span style=\"font-weight: bold\"> Total params: </span><span style=\"color: #00af00; text-decoration-color: #00af00\">94,154</span> (367.79 KB)\n",
              "</pre>\n"
            ]
          },
          "metadata": {}
        },
        {
          "output_type": "display_data",
          "data": {
            "text/plain": [
              "\u001b[1m Trainable params: \u001b[0m\u001b[38;5;34m94,154\u001b[0m (367.79 KB)\n"
            ],
            "text/html": [
              "<pre style=\"white-space:pre;overflow-x:auto;line-height:normal;font-family:Menlo,'DejaVu Sans Mono',consolas,'Courier New',monospace\"><span style=\"font-weight: bold\"> Trainable params: </span><span style=\"color: #00af00; text-decoration-color: #00af00\">94,154</span> (367.79 KB)\n",
              "</pre>\n"
            ]
          },
          "metadata": {}
        },
        {
          "output_type": "display_data",
          "data": {
            "text/plain": [
              "\u001b[1m Non-trainable params: \u001b[0m\u001b[38;5;34m0\u001b[0m (0.00 B)\n"
            ],
            "text/html": [
              "<pre style=\"white-space:pre;overflow-x:auto;line-height:normal;font-family:Menlo,'DejaVu Sans Mono',consolas,'Courier New',monospace\"><span style=\"font-weight: bold\"> Non-trainable params: </span><span style=\"color: #00af00; text-decoration-color: #00af00\">0</span> (0.00 B)\n",
              "</pre>\n"
            ]
          },
          "metadata": {}
        }
      ]
    },
    {
      "cell_type": "markdown",
      "source": [
        "#Task 3: Compile the Model\n",
        "\n",
        "* Prepare the model for training by picking:\n",
        "> * An optimizer (like Adam).\n",
        "> * A loss function (like sparse categorical crossentropy).\n",
        "> * A metric to track (like accuracy).\n",
        "\n"
      ],
      "metadata": {
        "id": "mfMvWTvDhyb8"
      }
    },
    {
      "cell_type": "code",
      "source": [
        "# Task 3: Compile the Model\n",
        "model.compile(optimizer='adam', loss='categorical_crossentropy', metrics=['accuracy'])"
      ],
      "metadata": {
        "id": "b0pdzmiWlfYw"
      },
      "execution_count": 47,
      "outputs": []
    },
    {
      "cell_type": "markdown",
      "source": [
        "#Task 4: Train the Model\n",
        "\n",
        "* Train the model using the model.fit() function.\n",
        "* Use a batch size of 128 and train for 20 rounds (epochs).\n",
        "* Set aside 20% of the training data to check progress (validation_split=0.2).\n",
        "* (Optional) Add tools like ModelCheckpoint to save the best version and EarlyStopping to stop if it’s not improving."
      ],
      "metadata": {
        "id": "TmxAaaMuiRDn"
      }
    },
    {
      "cell_type": "code",
      "source": [
        "# Task 4: Train the Model with Callbacks\n",
        "# Define callbacks with .keras format\n",
        "callbacks = [\n",
        "    ModelCheckpoint(filepath='best_devnagari_model.keras', monitor='val_loss', save_best_only=True),\n",
        "    EarlyStopping(monitor='val_loss',\n",
        "                  patience=4)\n",
        "]\n",
        "\n",
        "# Train the model\n",
        "history = model.fit(\n",
        "    x_train, y_train,\n",
        "    batch_size=128,\n",
        "    epochs=20,\n",
        "    validation_split=0.2,\n",
        "    callbacks=callbacks\n",
        ")"
      ],
      "metadata": {
        "colab": {
          "base_uri": "https://localhost:8080/",
          "height": 0
        },
        "id": "U4Hf9OMdlvR-",
        "outputId": "acfe93af-7ab1-4b58-a11b-22755a9969e9"
      },
      "execution_count": 55,
      "outputs": [
        {
          "output_type": "stream",
          "name": "stdout",
          "text": [
            "Epoch 1/20\n",
            "\u001b[1m107/107\u001b[0m \u001b[32m━━━━━━━━━━━━━━━━━━━━\u001b[0m\u001b[37m\u001b[0m \u001b[1m1s\u001b[0m 9ms/step - accuracy: 0.9888 - loss: 0.0477 - val_accuracy: 0.0000e+00 - val_loss: 11.2533\n",
            "Epoch 2/20\n",
            "\u001b[1m107/107\u001b[0m \u001b[32m━━━━━━━━━━━━━━━━━━━━\u001b[0m\u001b[37m\u001b[0m \u001b[1m1s\u001b[0m 7ms/step - accuracy: 0.9903 - loss: 0.0406 - val_accuracy: 0.0000e+00 - val_loss: 11.3421\n",
            "Epoch 3/20\n",
            "\u001b[1m107/107\u001b[0m \u001b[32m━━━━━━━━━━━━━━━━━━━━\u001b[0m\u001b[37m\u001b[0m \u001b[1m1s\u001b[0m 7ms/step - accuracy: 0.9934 - loss: 0.0303 - val_accuracy: 0.0000e+00 - val_loss: 11.5185\n",
            "Epoch 4/20\n",
            "\u001b[1m107/107\u001b[0m \u001b[32m━━━━━━━━━━━━━━━━━━━━\u001b[0m\u001b[37m\u001b[0m \u001b[1m1s\u001b[0m 7ms/step - accuracy: 0.9956 - loss: 0.0257 - val_accuracy: 0.0000e+00 - val_loss: 11.8701\n",
            "Epoch 5/20\n",
            "\u001b[1m107/107\u001b[0m \u001b[32m━━━━━━━━━━━━━━━━━━━━\u001b[0m\u001b[37m\u001b[0m \u001b[1m1s\u001b[0m 7ms/step - accuracy: 0.9959 - loss: 0.0208 - val_accuracy: 0.0000e+00 - val_loss: 12.0482\n"
          ]
        }
      ]
    },
    {
      "cell_type": "markdown",
      "source": [
        "# Task5: Evaluate the Model\n",
        "\n",
        "* After training, check how well the model works on the test data using model.evaluate().\n",
        "* Report the test accuracy and loss."
      ],
      "metadata": {
        "id": "zjYR841diixy"
      }
    },
    {
      "cell_type": "code",
      "source": [
        "# Task 5: Evaluate the Model\n",
        "test_loss, test_acc = model.evaluate(x_test, y_test)\n",
        "print(f\"Test accuracy: {test_acc:.4f}, Test loss: {test_loss:.4f}\")"
      ],
      "metadata": {
        "colab": {
          "base_uri": "https://localhost:8080/",
          "height": 0
        },
        "id": "vUQn9f3ql1vn",
        "outputId": "03c05a3c-8adb-4ecb-d747-05210105e797"
      },
      "execution_count": 49,
      "outputs": [
        {
          "output_type": "stream",
          "name": "stdout",
          "text": [
            "\u001b[1m94/94\u001b[0m \u001b[32m━━━━━━━━━━━━━━━━━━━━\u001b[0m\u001b[37m\u001b[0m \u001b[1m0s\u001b[0m 2ms/step - accuracy: 0.9446 - loss: 0.3696\n",
            "Test accuracy: 0.7670, Test loss: 2.1480\n"
          ]
        }
      ]
    },
    {
      "cell_type": "markdown",
      "source": [
        "#Task 6: Save and Load the Model\n",
        "\n",
        "* Save the trained model as a file (e.g., my_model.h5) using model.save().\n",
        "* Load it back with load_model() and test it again to make sure it works."
      ],
      "metadata": {
        "id": "ZncYEzMBipP0"
      }
    },
    {
      "cell_type": "code",
      "source": [
        "# Task 6: Save and Load the Model\n",
        "# Save the model\n",
        "model.save('devnagari_model.keras')\n",
        "\n",
        "# Load it back\n",
        "loaded_model = tf.keras.models.load_model('devnagari_model.keras')\n",
        "\n",
        "# Evaluate\n",
        "loaded_test_loss, loaded_test_acc = loaded_model.evaluate(x_test, y_test, verbose=0)\n",
        "print(f\"Loaded model test accuracy: {loaded_test_acc:.4f}\")"
      ],
      "metadata": {
        "colab": {
          "base_uri": "https://localhost:8080/",
          "height": 0
        },
        "id": "ia7mVX0ol4iX",
        "outputId": "2d187719-2ecf-4865-8ebd-3b2e77d7d9c7"
      },
      "execution_count": 53,
      "outputs": [
        {
          "output_type": "stream",
          "name": "stdout",
          "text": [
            "Loaded model test accuracy: 0.7670\n"
          ]
        }
      ]
    },
    {
      "cell_type": "markdown",
      "source": [
        "#Task 7: Predictions\n",
        "\n",
        "* Use model.predict() to guess the digits in the test images.\n",
        "* Turn the model’s guesses (probabilities) into actual digit labels with np.argmax()."
      ],
      "metadata": {
        "id": "2lQuizK0iuER"
      }
    },
    {
      "cell_type": "code",
      "source": [
        "# Task 7: Predictions\n",
        "predictions = model.predict(x_test)\n",
        "predicted_labels = np.argmax(predictions, axis=1)\n",
        "true_labels = np.argmax(y_test, axis=1)\n",
        "\n",
        "# Print the first few predictions\n",
        "print(f\"Predicted label for first image: {predicted_labels[0]}\")\n",
        "print(f\"True label for first image: {true_labels[0]}\")"
      ],
      "metadata": {
        "colab": {
          "base_uri": "https://localhost:8080/",
          "height": 0
        },
        "id": "vs2i0VtGl7pr",
        "outputId": "14c19baf-83c8-45f5-9b8e-fafa33e5e501"
      },
      "execution_count": 51,
      "outputs": [
        {
          "output_type": "stream",
          "name": "stdout",
          "text": [
            "\u001b[1m94/94\u001b[0m \u001b[32m━━━━━━━━━━━━━━━━━━━━\u001b[0m\u001b[37m\u001b[0m \u001b[1m0s\u001b[0m 2ms/step\n",
            "Predicted label for first image: 0\n",
            "True label for first image: 0\n"
          ]
        }
      ]
    },
    {
      "cell_type": "markdown",
      "source": [
        "#Visualization"
      ],
      "metadata": {
        "id": "wVr8a5vJmOgC"
      }
    },
    {
      "cell_type": "code",
      "source": [
        "# Visualization: Training and Validation Loss/Accuracy\n",
        "plt.figure(figsize=(10, 5))\n",
        "\n",
        "# Plot Loss\n",
        "plt.subplot(1, 2, 1)\n",
        "plt.plot(history.history['loss'], label='Training Loss')\n",
        "plt.plot(history.history['val_loss'], label='Validation Loss')\n",
        "plt.xlabel('Epochs')\n",
        "plt.ylabel('Loss')\n",
        "plt.title('Training and Validation Loss')\n",
        "plt.legend()\n",
        "\n",
        "# Plot Accuracy\n",
        "plt.subplot(1, 2, 2)\n",
        "plt.plot(history.history['accuracy'], label='Training Accuracy')\n",
        "plt.plot(history.history['val_accuracy'], label='Validation Accuracy')\n",
        "plt.xlabel('Epochs')\n",
        "plt.ylabel('Accuracy')\n",
        "plt.title('Training and Validation Accuracy')\n",
        "plt.legend()\n",
        "\n",
        "plt.tight_layout()\n",
        "plt.show()"
      ],
      "metadata": {
        "colab": {
          "base_uri": "https://localhost:8080/",
          "height": 507
        },
        "id": "AodcAwBttpSM",
        "outputId": "4ba9c810-340e-4ddc-93ba-9362777a1eb8"
      },
      "execution_count": 52,
      "outputs": [
        {
          "output_type": "display_data",
          "data": {
            "text/plain": [
              "<Figure size 1000x500 with 2 Axes>"
            ],
            "image/png": "[encoded data removed]"
          },
          "metadata": {}
        }
      ]
    }
  ]
}